{
 "cells": [
  {
   "cell_type": "code",
   "execution_count": 1,
   "metadata": {},
   "outputs": [],
   "source": [
    "# Import libraries \n",
    "import networkx as nx\n",
    "import random\n",
    "from typing import Tuple, Any\n",
    "from collections import defaultdict\n",
    "import matplotlib.pyplot as plt\n",
    "from tqdm.notebook import tqdm\n",
    "import time"
   ]
  },
  {
   "cell_type": "code",
   "execution_count": 14,
   "metadata": {
    "scrolled": true
   },
   "outputs": [],
   "source": [
    "def contract_edge(g: nx.Graph, edge: Tuple[Any, Any]):\n",
    "    \"\"\"\n",
    "    @g: the graph \n",
    "    @edge: the edge that needs to be contracted\n",
    "    Returns: new graph with contracted edge, \n",
    "    taking weight into consideration\n",
    "    Remark: we do not sample an edge wrt to weight size (not conform to original algo)\n",
    "    \"\"\"\n",
    "    # Create a copy the graph (expensive)\n",
    "    h = g.copy()\n",
    "    \n",
    "    # Identify the nodes relative to the edge \n",
    "    u, v = edge\n",
    "    \n",
    "    # Keep track of the previous contractions \n",
    "    contraction = []\n",
    "    contraction += g.nodes(data=True)[u]['contraction']\n",
    "    contraction += g.nodes(data=True)[v]['contraction']\n",
    "    \n",
    "    # Compute new edge for the edges that requires it \n",
    "    new_edges = defaultdict(lambda: 0)\n",
    "    for x, y, d in g.edges([u, v], data=True):\n",
    "        if y != u and y != v:\n",
    "            new_edges[(u, y)] += d['weight']\n",
    "    \n",
    "    # Remove this two nodes\n",
    "    h.remove_nodes_from([u, v])\n",
    "    \n",
    "    # Create new node that keeps track of the contractions\n",
    "    h.add_node(u, contraction=contraction)\n",
    "    \n",
    "    # Add weights\n",
    "    h.add_weighted_edges_from([(k[0], k[1], w) for k, w in new_edges.items()])\n",
    "    \n",
    "    return h\n",
    "\n",
    "\n",
    "def karger_mincut(g: nx.Graph, n_iter: int):\n",
    "    \"\"\"\n",
    "    @g: graph\n",
    "    @n_iter: number of times the algo is applied\n",
    "    Returns: cut applied and its value. \n",
    "    \"\"\"\n",
    "    best_graph = None\n",
    "    best_cut = None\n",
    "    \n",
    "    # Repeat several times \n",
    "    for _ in tqdm(range(n_iter)):\n",
    "        h = g.copy()\n",
    "        start_time = time.time()\n",
    "        while h.number_of_nodes() > 2:\n",
    "            print(\"\\r\", h.number_of_nodes(), h.number_of_edges(), end=\"\")\n",
    "            # Choose an edge uniformly at randomly \n",
    "            e = random.choice(list(h.edges))\n",
    "            # Add constraint on target and source node\n",
    "            un = set(h.nodes(data=True)[e[0]]['contraction']).union(h.nodes(data=True)[e[1]]['contraction'])\n",
    "            if set(['target','source']).issubset(set(un)):\n",
    "                pass\n",
    "            else: \n",
    "                h = contract_edge(h, e)\n",
    "        end_time = time.time()\n",
    "        total_time = end_time - start_time\n",
    "        print(\"Time: \", total_time)   \n",
    "        \n",
    "        # Store the best cut among iterations \n",
    "        cut = h.get_edge_data(*list(h.edges)[0])['weight']\n",
    "        if best_cut is None or cut < best_cut:\n",
    "            best_cut = cut\n",
    "            best_graph = h\n",
    "    print(\"Min-cut :\", best_cut)\n",
    "    \n",
    "    # Print the components of the best cut\n",
    "    for node in best_graph.nodes(data=True):\n",
    "        print(node)\n",
    "        \n",
    "        \n",
    "def get_nid(x, y, side):\n",
    "    \"\"\"\n",
    "    Define node id for the pixel (x,y)\n",
    "    \"\"\"\n",
    "    return x + side * y\n",
    "\n",
    "\n",
    "def draw_random_graph(side):\n",
    "    \"\"\"\n",
    "    @side: dimension of the graph \n",
    "    Create a graph that looks like our picture graph\n",
    "    \"\"\"\n",
    "    \n",
    "    # Initialise graph \n",
    "    example = nx.Graph()\n",
    "    pixel_nodes = []\n",
    "\n",
    "    # Add node with special id - (#: size x size)\n",
    "    for x in range(side):\n",
    "        for y in range(side):\n",
    "            nid = get_nid(x, y, side)\n",
    "            example.add_node(nid, contraction=[nid])\n",
    "            pixel_nodes.append(nid)\n",
    "            if x > 0:\n",
    "                example.add_edge(nid, get_nid(x - 1, y, side), weight=1)\n",
    "            if y > 0:\n",
    "                example.add_edge(nid, get_nid(x, y - 1, side), weight=1)\n",
    "        \n",
    "    # Add source and target node \n",
    "    example.add_node('source', contraction=['source'])\n",
    "    example.add_node('target', contraction=['target'])\n",
    "    # Link these two nodes to all nodes (except themselves)\n",
    "    for pnode in pixel_nodes:\n",
    "        example.add_edge('source', pnode, weight=1)\n",
    "        example.add_edge(pnode, 'target', weight=1)\n",
    "            \n",
    "    #nx.draw(example)\n",
    "    #plt.show()\n",
    "    return example\n"
   ]
  },
  {
   "cell_type": "code",
   "execution_count": 3,
   "metadata": {},
   "outputs": [
    {
     "data": {
      "application/vnd.jupyter.widget-view+json": {
       "model_id": "7202e9e9dc5546edbef7abea669541bc",
       "version_major": 2,
       "version_minor": 0
      },
      "text/plain": [
       "HBox(children=(FloatProgress(value=0.0, max=1.0), HTML(value='')))"
      ]
     },
     "metadata": {},
     "output_type": "display_data"
    },
    {
     "name": "stdout",
     "output_type": "stream",
     "text": [
      "\r",
      " 11 30\r",
      " 10 27\r",
      " 9 23\r",
      " 8 19\r",
      " 7 15\r",
      " 6 12\r",
      " 5 9\r",
      " 4 6\r",
      " 3 3Time:  0.016816139221191406\n",
      "\n",
      "Min-cut : 11\n",
      "(8, {'contraction': [8, 'target']})\n",
      "(5, {'contraction': [5, 4, 7, 2, 1, 'source', 0, 3, 6]})\n"
     ]
    },
    {
     "data": {
      "image/png": "[encoded data removed]",
      "text/plain": [
       "<Figure size 432x288 with 1 Axes>"
      ]
     },
     "metadata": {},
     "output_type": "display_data"
    }
   ],
   "source": [
    "# APPLICATION\n",
    "\n",
    "example = draw_random_graph(3) \n",
    "#pos = nx.spring_layout(example, iterations=10)\n",
    "nx.draw(example, with_labels=True)\n",
    "karger_mincut(example, 1)"
   ]
  },
  {
   "cell_type": "code",
   "execution_count": null,
   "metadata": {},
   "outputs": [],
   "source": []
  },
  {
   "cell_type": "code",
   "execution_count": null,
   "metadata": {},
   "outputs": [],
   "source": []
  },
  {
   "cell_type": "code",
   "execution_count": 96,
   "metadata": {},
   "outputs": [],
   "source": [
    "# MULTIGRAPH METHOD \n",
    "\n",
    "def create_graph(h,w):\n",
    "    \"\"\"\n",
    "    @h: height of the image\n",
    "    @w: width of the image \n",
    "    Create an adapted graph for image segmentation task\n",
    "    \"\"\"\n",
    "\n",
    "    # required graph format for pictures \n",
    "    G = nx.grid_2d_graph(h, w, create_using = nx.MultiGraph()) \n",
    "\n",
    "    # Add source and target nodes\n",
    "    G.add_nodes_from(['target','source'])\n",
    "    for node in list(G.nodes):   \n",
    "        if node not in ['source', 'target']:\n",
    "            G.add_edge(node, 'target')\n",
    "            G.add_edge(node, 'source')\n",
    "\n",
    "    # Assign weights to graph above \n",
    "    weights = list(np.random.random(G.number_of_edges())) # random weight on edges \n",
    "\n",
    "    # Add weights to each edge\n",
    "    list_of_nodes = list(G.nodes()) # keep a list of nodes\n",
    "    list_edges = [] # keep a list of edges\n",
    "    for i,e in enumerate(G.edges()):\n",
    "        G[e[0]][e[1]][0]['weight'] = weights[i] # multigraph\n",
    "        #G[e[0]][e[1]]['weight'] = weights[i] # graph \n",
    "        list_edges.append(e)\n",
    "        \n",
    "    # Relabel nodes    \n",
    "    mapping = {}\n",
    "    for node in list(G.nodes()):\n",
    "        if node == 'source':\n",
    "            mapping[node] = node\n",
    "        elif node == 'target':\n",
    "            mapping[node] = node\n",
    "        else:\n",
    "            mapping[node] =  get_nid(node[0], node[1], h)\n",
    "    G = nx.relabel_nodes(G, mapping)\n",
    "    \n",
    "    # Create same graph but with contraction on nodes\n",
    "    H = nx.MultiGraph()\n",
    "    for node in list(G.nodes()):\n",
    "        H.add_node(node, contraction= [node])\n",
    "    for edge in list(G.edges.data()):\n",
    "        H.add_edge(edge[0], edge[1], weight = edge[2]['weight'])\n",
    "    \n",
    "    return H \n",
    "\n",
    "\n"
   ]
  },
  {
   "cell_type": "code",
   "execution_count": 106,
   "metadata": {},
   "outputs": [],
   "source": [
    "def contract_edge_bis(g: nx.Graph, edge: Tuple[Any, Any]):\n",
    "    \"\"\"\n",
    "    @g: the graph \n",
    "    @edge: the edge that needs to be contracted\n",
    "    Returns: new graph with contracted edge, \n",
    "    taking weight into consideration\n",
    "    \"\"\"\n",
    "    # Create a copy the graph (expensive)\n",
    "    h = g.copy()\n",
    "    \n",
    "    # Identify the nodes relative to the edge \n",
    "    u, v = edge\n",
    "    \n",
    "    # Keep track of the previous contractions \n",
    "    contraction = []\n",
    "    contraction += g.nodes(data=True)[u]['contraction']\n",
    "    print(contraction)\n",
    "    print('new', g.nodes(data=True)[v]['contraction'])\n",
    "    contraction += g.nodes(data=True)[v]['contraction']\n",
    "    \n",
    "    # Compute new edge for the edges that requires it \n",
    "    # new_edges = defaultdict(lambda: 0)\n",
    "    # for x, y, d in g.edges([u, v], data=True):\n",
    "    #    if y != u and y != v:\n",
    "    #        new_edges[(u, y)] += d['weight']\n",
    "    \n",
    "    # Compute new edge for the edges that requires it \n",
    "    new_edges = defaultdict(lambda: 0)\n",
    "    for x,y,d in G.edges.data():\n",
    "        if x == u or x == v: \n",
    "            new_edges[(u, y)] += d['weight']\n",
    "        if y == u or y == v: \n",
    "            new_edges[(u, x)] += d['weight']\n",
    "            \n",
    "    # Remove this two nodes\n",
    "    h.remove_nodes_from([u, v])\n",
    "    \n",
    "    # Create new node that keeps track of the contractions\n",
    "    h.add_node(u, contraction=contraction)\n",
    "    \n",
    "    # Add weights\n",
    "    h.add_weighted_edges_from([(k[0], k[1], w) for k, w in new_edges.items()])\n",
    "    \n",
    "    return h\n",
    "\n",
    "\n",
    "def karger_mincut_bis(g: nx.Graph, n_iter: int):\n",
    "    best_graph = None\n",
    "    best_cut = None\n",
    "    for _ in range(n_iter):\n",
    "        h = g.copy()\n",
    "        while h.number_of_nodes() > 2:\n",
    "            #print(\"\\r\", h.number_of_nodes(), h.number_of_edges(), end=\"\")\n",
    "            e = random.choice(list(h.edges()))\n",
    "            h = contract_edge_bis(h, e)\n",
    "        \n",
    "        cut = h.get_edge_data(*list(h.edges)[0])['weight']\n",
    "        if best_cut is None or cut < best_cut:\n",
    "            best_cut = cut\n",
    "            best_graph = h\n",
    "    print(\"Min-cut:\", best_cut)\n",
    "    for node in best_graph.nodes(data=True):\n",
    "        print(node)"
   ]
  },
  {
   "cell_type": "code",
   "execution_count": 105,
   "metadata": {},
   "outputs": [
    {
     "data": {
      "text/plain": [
       "NodeDataView({0: {'contraction': [0]}, 4: {'contraction': [4]}, 8: {'contraction': [8]}, 12: {'contraction': [12]}, 1: {'contraction': [1]}, 5: {'contraction': [5]}, 9: {'contraction': [9]}, 13: {'contraction': [13]}, 2: {'contraction': [2]}, 6: {'contraction': [6]}, 10: {'contraction': [10]}, 14: {'contraction': [14]}, 3: {'contraction': [3]}, 7: {'contraction': [7]}, 11: {'contraction': [11]}, 15: {'contraction': [15]}, 'target': {'contraction': ['target']}, 'source': {'contraction': ['source']}})"
      ]
     },
     "execution_count": 105,
     "metadata": {},
     "output_type": "execute_result"
    }
   ],
   "source": [
    "G.nodes.data()"
   ]
  },
  {
   "cell_type": "code",
   "execution_count": 47,
   "metadata": {},
   "outputs": [
    {
     "data": {
      "text/plain": [
       "0.3425780692347883"
      ]
     },
     "execution_count": 47,
     "metadata": {},
     "output_type": "execute_result"
    }
   ],
   "source": [
    "list(G.edges.data())[0][2]['weight']"
   ]
  },
  {
   "cell_type": "code",
   "execution_count": 107,
   "metadata": {},
   "outputs": [
    {
     "name": "stdout",
     "output_type": "stream",
     "text": [
      "[14]\n",
      "new ['target']\n",
      "[5]\n",
      "new [9]\n",
      "[3]\n",
      "new [14, 'target']\n",
      "[4]\n",
      "new ['source']\n",
      "[4, 'source']\n"
     ]
    },
    {
     "ename": "KeyError",
     "evalue": "'contraction'",
     "output_type": "error",
     "traceback": [
      "\u001b[0;31m---------------------------------------------------------------------------\u001b[0m",
      "\u001b[0;31mKeyError\u001b[0m                                  Traceback (most recent call last)",
      "\u001b[0;32m<ipython-input-107-a66480717f71>\u001b[0m in \u001b[0;36m<module>\u001b[0;34m\u001b[0m\n\u001b[1;32m      1\u001b[0m \u001b[0;31m# APPLICATION\u001b[0m\u001b[0;34m\u001b[0m\u001b[0;34m\u001b[0m\u001b[0;34m\u001b[0m\u001b[0m\n\u001b[1;32m      2\u001b[0m \u001b[0mG\u001b[0m \u001b[0;34m=\u001b[0m \u001b[0mcreate_graph\u001b[0m\u001b[0;34m(\u001b[0m\u001b[0;36m4\u001b[0m\u001b[0;34m,\u001b[0m\u001b[0;36m4\u001b[0m\u001b[0;34m)\u001b[0m\u001b[0;34m\u001b[0m\u001b[0;34m\u001b[0m\u001b[0m\n\u001b[0;32m----> 3\u001b[0;31m \u001b[0mkarger_mincut_bis\u001b[0m\u001b[0;34m(\u001b[0m\u001b[0mG\u001b[0m\u001b[0;34m,\u001b[0m \u001b[0;36m1\u001b[0m\u001b[0;34m)\u001b[0m\u001b[0;34m\u001b[0m\u001b[0;34m\u001b[0m\u001b[0m\n\u001b[0m",
      "\u001b[0;32m<ipython-input-106-8c9db98705d9>\u001b[0m in \u001b[0;36mkarger_mincut_bis\u001b[0;34m(g, n_iter)\u001b[0m\n\u001b[1;32m     53\u001b[0m             \u001b[0;31m#print(\"\\r\", h.number_of_nodes(), h.number_of_edges(), end=\"\")\u001b[0m\u001b[0;34m\u001b[0m\u001b[0;34m\u001b[0m\u001b[0;34m\u001b[0m\u001b[0m\n\u001b[1;32m     54\u001b[0m             \u001b[0me\u001b[0m \u001b[0;34m=\u001b[0m \u001b[0mrandom\u001b[0m\u001b[0;34m.\u001b[0m\u001b[0mchoice\u001b[0m\u001b[0;34m(\u001b[0m\u001b[0mlist\u001b[0m\u001b[0;34m(\u001b[0m\u001b[0mh\u001b[0m\u001b[0;34m.\u001b[0m\u001b[0medges\u001b[0m\u001b[0;34m(\u001b[0m\u001b[0;34m)\u001b[0m\u001b[0;34m)\u001b[0m\u001b[0;34m)\u001b[0m\u001b[0;34m\u001b[0m\u001b[0;34m\u001b[0m\u001b[0m\n\u001b[0;32m---> 55\u001b[0;31m             \u001b[0mh\u001b[0m \u001b[0;34m=\u001b[0m \u001b[0mcontract_edge_bis\u001b[0m\u001b[0;34m(\u001b[0m\u001b[0mh\u001b[0m\u001b[0;34m,\u001b[0m \u001b[0me\u001b[0m\u001b[0;34m)\u001b[0m\u001b[0;34m\u001b[0m\u001b[0;34m\u001b[0m\u001b[0m\n\u001b[0m\u001b[1;32m     56\u001b[0m \u001b[0;34m\u001b[0m\u001b[0m\n\u001b[1;32m     57\u001b[0m         \u001b[0mcut\u001b[0m \u001b[0;34m=\u001b[0m \u001b[0mh\u001b[0m\u001b[0;34m.\u001b[0m\u001b[0mget_edge_data\u001b[0m\u001b[0;34m(\u001b[0m\u001b[0;34m*\u001b[0m\u001b[0mlist\u001b[0m\u001b[0;34m(\u001b[0m\u001b[0mh\u001b[0m\u001b[0;34m.\u001b[0m\u001b[0medges\u001b[0m\u001b[0;34m)\u001b[0m\u001b[0;34m[\u001b[0m\u001b[0;36m0\u001b[0m\u001b[0;34m]\u001b[0m\u001b[0;34m)\u001b[0m\u001b[0;34m[\u001b[0m\u001b[0;34m'weight'\u001b[0m\u001b[0;34m]\u001b[0m\u001b[0;34m\u001b[0m\u001b[0;34m\u001b[0m\u001b[0m\n",
      "\u001b[0;32m<ipython-input-106-8c9db98705d9>\u001b[0m in \u001b[0;36mcontract_edge_bis\u001b[0;34m(g, edge)\u001b[0m\n\u001b[1;32m     16\u001b[0m     \u001b[0mcontraction\u001b[0m \u001b[0;34m+=\u001b[0m \u001b[0mg\u001b[0m\u001b[0;34m.\u001b[0m\u001b[0mnodes\u001b[0m\u001b[0;34m(\u001b[0m\u001b[0mdata\u001b[0m\u001b[0;34m=\u001b[0m\u001b[0;32mTrue\u001b[0m\u001b[0;34m)\u001b[0m\u001b[0;34m[\u001b[0m\u001b[0mu\u001b[0m\u001b[0;34m]\u001b[0m\u001b[0;34m[\u001b[0m\u001b[0;34m'contraction'\u001b[0m\u001b[0;34m]\u001b[0m\u001b[0;34m\u001b[0m\u001b[0;34m\u001b[0m\u001b[0m\n\u001b[1;32m     17\u001b[0m     \u001b[0mprint\u001b[0m\u001b[0;34m(\u001b[0m\u001b[0mcontraction\u001b[0m\u001b[0;34m)\u001b[0m\u001b[0;34m\u001b[0m\u001b[0;34m\u001b[0m\u001b[0m\n\u001b[0;32m---> 18\u001b[0;31m     \u001b[0mprint\u001b[0m\u001b[0;34m(\u001b[0m\u001b[0;34m'new'\u001b[0m\u001b[0;34m,\u001b[0m \u001b[0mg\u001b[0m\u001b[0;34m.\u001b[0m\u001b[0mnodes\u001b[0m\u001b[0;34m(\u001b[0m\u001b[0mdata\u001b[0m\u001b[0;34m=\u001b[0m\u001b[0;32mTrue\u001b[0m\u001b[0;34m)\u001b[0m\u001b[0;34m[\u001b[0m\u001b[0mv\u001b[0m\u001b[0;34m]\u001b[0m\u001b[0;34m[\u001b[0m\u001b[0;34m'contraction'\u001b[0m\u001b[0;34m]\u001b[0m\u001b[0;34m)\u001b[0m\u001b[0;34m\u001b[0m\u001b[0;34m\u001b[0m\u001b[0m\n\u001b[0m\u001b[1;32m     19\u001b[0m     \u001b[0mcontraction\u001b[0m \u001b[0;34m+=\u001b[0m \u001b[0mg\u001b[0m\u001b[0;34m.\u001b[0m\u001b[0mnodes\u001b[0m\u001b[0;34m(\u001b[0m\u001b[0mdata\u001b[0m\u001b[0;34m=\u001b[0m\u001b[0;32mTrue\u001b[0m\u001b[0;34m)\u001b[0m\u001b[0;34m[\u001b[0m\u001b[0mv\u001b[0m\u001b[0;34m]\u001b[0m\u001b[0;34m[\u001b[0m\u001b[0;34m'contraction'\u001b[0m\u001b[0;34m]\u001b[0m\u001b[0;34m\u001b[0m\u001b[0;34m\u001b[0m\u001b[0m\n\u001b[1;32m     20\u001b[0m \u001b[0;34m\u001b[0m\u001b[0m\n",
      "\u001b[0;31mKeyError\u001b[0m: 'contraction'"
     ]
    }
   ],
   "source": [
    "# APPLICATION \n",
    "G = create_graph(4,4)\n",
    "karger_mincut_bis(G, 1)"
   ]
  },
  {
   "cell_type": "code",
   "execution_count": 72,
   "metadata": {},
   "outputs": [
    {
     "data": {
      "text/plain": [
       "0"
      ]
     },
     "execution_count": 72,
     "metadata": {},
     "output_type": "execute_result"
    }
   ],
   "source": [
    "G.nodes(data=True)[0]['contraction']"
   ]
  },
  {
   "cell_type": "code",
   "execution_count": 78,
   "metadata": {},
   "outputs": [
    {
     "data": {
      "text/plain": [
       "[0, 1]"
      ]
     },
     "execution_count": 78,
     "metadata": {},
     "output_type": "execute_result"
    }
   ],
   "source": [
    "l"
   ]
  },
  {
   "cell_type": "code",
   "execution_count": 77,
   "metadata": {},
   "outputs": [],
   "source": [
    "l.append(G.nodes(data=True)[1]['contraction'])"
   ]
  },
  {
   "cell_type": "code",
   "execution_count": null,
   "metadata": {},
   "outputs": [],
   "source": [
    "def basix_karger_mincut(g):\n",
    "    source = []\n",
    "    while g.number_of_nodes() > 2: \n",
    "        e = random.choice(list(g.edges))\n",
    "        g = nx.contracted_edge(g, e, self_loops=False)\n",
    "    return g, source\n",
    "\n",
    "graph, l = karger_mincut(g = H)"
   ]
  },
  {
   "cell_type": "code",
   "execution_count": null,
   "metadata": {},
   "outputs": [],
   "source": [
    "elarge = [(u, v) for (u, v, d) in g1.edges(data=True) if d['weight'] > 4]\n",
    "esmall = [(u, v) for (u, v, d) in g1.edges(data=True) if d['weight'] <= 4]\n",
    "\n",
    "nx.set_node_attributes(G, 'name', G.nodes())"
   ]
  }
 ],
 "metadata": {
  "hide_input": false,
  "kernelspec": {
   "display_name": "Python 3",
   "language": "python",
   "name": "python3"
  },
  "language_info": {
   "codemirror_mode": {
    "name": "ipython",
    "version": 3
   },
   "file_extension": ".py",
   "mimetype": "text/x-python",
   "name": "python",
   "nbconvert_exporter": "python",
   "pygments_lexer": "ipython3",
   "version": "3.7.3"
  },
  "varInspector": {
   "cols": {
    "lenName": 16,
    "lenType": 16,
    "lenVar": 40
   },
   "kernels_config": {
    "python": {
     "delete_cmd_postfix": "",
     "delete_cmd_prefix": "del ",
     "library": "var_list.py",
     "varRefreshCmd": "print(var_dic_list())"
    },
    "r": {
     "delete_cmd_postfix": ") ",
     "delete_cmd_prefix": "rm(",
     "library": "var_list.r",
     "varRefreshCmd": "cat(var_dic_list()) "
    }
   },
   "types_to_exclude": [
    "module",
    "function",
    "builtin_function_or_method",
    "instance",
    "_Feature"
   ],
   "window_display": false
  }
 },
 "nbformat": 4,
 "nbformat_minor": 2
}
